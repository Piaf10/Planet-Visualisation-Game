{
 "cells": [
  {
   "cell_type": "code",
   "execution_count": 1,
   "id": "20480ce3",
   "metadata": {},
   "outputs": [
    {
     "name": "stdout",
     "output_type": "stream",
     "text": [
      "Requirement already satisfied: pygame in c:\\users\\pfull\\anaconda3\\lib\\site-packages (2.5.2)\n",
      "Note: you may need to restart the kernel to use updated packages.\n"
     ]
    }
   ],
   "source": [
    "pip install pygame"
   ]
  },
  {
   "cell_type": "code",
   "execution_count": 2,
   "id": "8665a89c",
   "metadata": {},
   "outputs": [
    {
     "name": "stdout",
     "output_type": "stream",
     "text": [
      "pygame 2.5.2 (SDL 2.28.3, Python 3.11.3)\n",
      "Hello from the pygame community. https://www.pygame.org/contribute.html\n"
     ]
    }
   ],
   "source": [
    "# Import the pygame library\n",
    "import pygame\n",
    "import math\n",
    "import os"
   ]
  },
  {
   "cell_type": "code",
   "execution_count": 3,
   "id": "e4557a29",
   "metadata": {},
   "outputs": [
    {
     "data": {
      "text/plain": [
       "(5, 0)"
      ]
     },
     "execution_count": 3,
     "metadata": {},
     "output_type": "execute_result"
    }
   ],
   "source": [
    "# Initialize Pygame\n",
    "pygame.init()"
   ]
  },
  {
   "cell_type": "code",
   "execution_count": 4,
   "id": "803d69a7",
   "metadata": {},
   "outputs": [],
   "source": [
    "# Set the window size\n",
    "size = (800, 800)\n",
    "screen = pygame.display.set_mode(size)\n",
    "\n",
    "\n",
    "# Set the title of the window\n",
    "pygame.display.set_caption(\"Solar System Visualiser\")"
   ]
  },
  {
   "cell_type": "code",
   "execution_count": 5,
   "id": "d93337b4",
   "metadata": {},
   "outputs": [],
   "source": [
    "# Load the images for each planet\n",
    "sun_image = pygame.image.load(os.path.join(\"planets\", \"sun.png\"))\n",
    "mercury_image = pygame.image.load(os.path.join(\"planets\", \"mercury.png\"))\n",
    "venus_image = pygame.image.load(os.path.join(\"planets\", \"venus.png\"))\n",
    "earth_image = pygame.image.load(os.path.join(\"planets\", \"earth.png\"))\n",
    "mars_image = pygame.image.load(os.path.join(\"planets\", \"mars.png\"))\n",
    "jupiter_image = pygame.image.load(os.path.join(\"planets\", \"jupiter.png\"))\n",
    "saturn_image = pygame.image.load(os.path.join(\"planets\", \"saturn.png\"))\n",
    "uranus_image = pygame.image.load(os.path.join(\"planets\", \"uranus.png\"))\n",
    "neptune_image = pygame.image.load(os.path.join(\"planets\", \"neptune.png\"))\n",
    "\n",
    "\n",
    "# Load the background image\n",
    "background_image = pygame.image.load(os.path.join(\"planets\", \"space.png\"))"
   ]
  },
  {
   "cell_type": "code",
   "execution_count": 6,
   "id": "ab7f0ed2",
   "metadata": {},
   "outputs": [],
   "source": [
    "# Reducing image size of the planets\n",
    "sun_image = pygame.transform.scale(sun_image, (80, 80))\n",
    "mercury_image = pygame.transform.scale(mercury_image, (15, 15))\n",
    "venus_image = pygame.transform.scale(venus_image, (25, 25))\n",
    "earth_image = pygame.transform.scale(earth_image, (30, 30))\n",
    "mars_image = pygame.transform.scale(mars_image, (20, 20))\n",
    "saturn_image = pygame.transform.scale(saturn_image, (40, 40))\n",
    "uranus_image = pygame.transform.scale(uranus_image, (35, 35))\n",
    "jupiter_image = pygame.transform.scale(jupiter_image, (50, 50))\n",
    "neptune_image = pygame.transform.scale(neptune_image, (40, 40))"
   ]
  },
  {
   "cell_type": "code",
   "execution_count": 7,
   "id": "705315c3",
   "metadata": {},
   "outputs": [],
   "source": [
    "# Create a list of planets with their properties\n",
    "planets = [\n",
    "   {\"name\": \"Sun\", \"image\": sun_image, \"radius\": 200, \"x\": 400, \"y\": 390, \"vx\": 0, \"vy\": 0},\n",
    "   {\"name\": \"Mercury\", \"image\": mercury_image, \"angle\": 0, \"distance\": 65, \"period\": 0.24, \"radius\": 10},\n",
    "   {\"name\": \"Venus\", \"image\": venus_image, \"angle\": 0, \"distance\": 90, \"period\": 0.62, \"radius\": 20},\n",
    "   {\"name\": \"Earth\", \"image\": earth_image, \"angle\": 0, \"distance\": 125, \"period\": 1, \"radius\": 25},\n",
    "   {\"name\": \"Mars\", \"image\": mars_image, \"angle\": 0, \"distance\": 155, \"period\": 1.88, \"radius\": 15},\n",
    "   {\"name\": \"Jupiter\", \"image\": jupiter_image, \"angle\": 0, \"distance\": 195, \"period\": 11.86, \"radius\": 45},\n",
    "   {\"name\": \"Saturn\", \"image\": saturn_image, \"angle\": 0, \"distance\": 260, \"period\": 29.5, \"radius\": 40},\n",
    "   {\"name\": \"Uranus\", \"image\": uranus_image, \"angle\": 0, \"distance\": 320, \"period\": 84, \"radius\": 30},\n",
    "   {\"name\": \"Neptune\", \"image\": neptune_image, \"angle\": 0, \"distance\": 370, \"period\": 164.8, \"radius\": 35}\n",
    "]"
   ]
  },
  {
   "cell_type": "code",
   "execution_count": null,
   "id": "42414edb",
   "metadata": {},
   "outputs": [],
   "source": [
    "# initialize the positions of the planets\n",
    "for planet in planets[1:]:\n",
    "    planet[\"x\"] = planets[0][\"x\"] + math.cos(planet[\"angle\"]) * planet[\"distance\"]\n",
    "    planet[\"y\"] = planets[0][\"y\"] + math.sin(planet[\"angle\"]) * planet[\"distance\"]\n",
    "\n",
    "\n",
    "# Create a list of past positions for each planet\n",
    "for planet in planets[1:]:\n",
    "    planet[\"past_positions\"] = []\n",
    "\n",
    "\n",
    "# Set the clock to control framerate\n",
    "clock = pygame.time.Clock()\n",
    "fps = 30\n",
    "\n",
    "# Run the game loop\n",
    "running = True\n",
    "while running:\n",
    "    for event in pygame.event.get():\n",
    "        if event.type == pygame.QUIT:\n",
    "            running = False\n",
    "\n",
    "    screen.blit(background_image, (0, 0))\n",
    "\n",
    "    # Display the sun at the center\n",
    "    image_rect = planets[0][\"image\"].get_rect()\n",
    "    image_rect.center = (int(planets[0][\"x\"]), int(planets[0][\"y\"]))\n",
    "    screen.blit(planets[0][\"image\"], image_rect)\n",
    "    \n",
    "    for planet in planets[1:]:\n",
    "        planet[\"angle\"] += 0.05 * (1 / planet[\"period\"])\n",
    "        planet[\"x\"] = planets[0][\"x\"] + math.cos(planet[\"angle\"]) * planet[\"distance\"]\n",
    "        planet[\"y\"] = planets[0][\"y\"] + math.sin(planet[\"angle\"]) * planet[\"distance\"]\n",
    "        planet[\"past_positions\"].append((planet[\"x\"], planet[\"y\"]))\n",
    "\n",
    "        for i in range(1, len(planet[\"past_positions\"])):\n",
    "            pygame.draw.line(screen, (255, 255, 255), planet[\"past_positions\"][i-1], planet[\"past_positions\"][i], 1)\n",
    "\n",
    "        image_rect = planet[\"image\"].get_rect()\n",
    "        image_rect.center = (int(planet[\"x\"]), int(planet[\"y\"]))\n",
    "        screen.blit(planet[\"image\"], image_rect)\n",
    "\n",
    "    pygame.display.update()\n",
    "    clock.tick(fps)\n",
    "\n",
    "# Quit pygame\n",
    "pygame.quit()"
   ]
  }
 ],
 "metadata": {
  "kernelspec": {
   "display_name": "Python 3 (ipykernel)",
   "language": "python",
   "name": "python3"
  },
  "language_info": {
   "codemirror_mode": {
    "name": "ipython",
    "version": 3
   },
   "file_extension": ".py",
   "mimetype": "text/x-python",
   "name": "python",
   "nbconvert_exporter": "python",
   "pygments_lexer": "ipython3",
   "version": "3.11.3"
  }
 },
 "nbformat": 4,
 "nbformat_minor": 5
}
